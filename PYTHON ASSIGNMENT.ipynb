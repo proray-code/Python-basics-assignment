{
 "cells": [
  {
   "cell_type": "markdown",
   "id": "b173df95-ee9c-4441-87d0-144a34f5ab49",
   "metadata": {},
   "source": [
    "PYTHON BASICS ASSIGNMENT "
   ]
  },
  {
   "cell_type": "markdown",
   "id": "87542eca-b7be-4322-95db-aa5a7c417567",
   "metadata": {},
   "source": [
    "Q1) The key features are as follows; a) simplicity and readability, b) interpreted language, c) versatility, d) extensive libraries and frameworks, e) built-in data structures\n"
   ]
  },
  {
   "cell_type": "markdown",
   "id": "43b145ac-bcac-4d92-b7fb-755118c81499",
   "metadata": {},
   "source": [
    "Q2) Predefined keywords in Python are reserved words that have special meanings and purposes in the language. They are integral to Python's syntax and cannot be used as variable names, function names, or identifiers. These keywords define the structure and logic of a Python program by enabling control flow, defining data types, and supporting specific operations.\n",
    "There are different types of keywords:-\n",
    "i) conditional statement keywords; ii) loop keywords; iii) boolean keywords; iv) logical operations "
   ]
  },
  {
   "cell_type": "markdown",
   "id": "adc41026-d873-4360-b0d2-b4fe39970796",
   "metadata": {},
   "source": [
    "Q3) Mutable objects can be modified after they are created. For example; Lists, dictionaries, sets, bytearrays, and custom objects."
   ]
  },
  {
   "cell_type": "code",
   "execution_count": 1,
   "id": "0a6ba5d5-5e26-4e7f-ae4a-4fb3541a6116",
   "metadata": {},
   "outputs": [
    {
     "name": "stdout",
     "output_type": "stream",
     "text": [
      "Original List: [1, 2, 3]\n",
      "Modified List: [1, 2, 3, 4]\n"
     ]
    }
   ],
   "source": [
    "my_list = [1, 2, 3]\n",
    "print(\"Original List:\", my_list)\n",
    "my_list.append(4)  # Modifying the list\n",
    "print(\"Modified List:\", my_list)"
   ]
  },
  {
   "cell_type": "raw",
   "id": "81d75c03-50d2-4349-935c-1aa6a7df85b5",
   "metadata": {},
   "source": [
    "Immutable objects cannot be modified after they are created. For example; Integers, floats, strings, tuples, frozensets, and bytes."
   ]
  },
  {
   "cell_type": "code",
   "execution_count": 4,
   "id": "55f98c09-eed0-4a10-9d00-88265704ce90",
   "metadata": {},
   "outputs": [
    {
     "name": "stdout",
     "output_type": "stream",
     "text": [
      "Original String: Hello\n",
      "Modified String: Hello World\n"
     ]
    }
   ],
   "source": [
    "my_string = \"Hello\"\n",
    "print(\"Original String:\", my_string)\n",
    "my_string = my_string + \" World\"  # This creates a new string object\n",
    "print(\"Modified String:\", my_string)"
   ]
  },
  {
   "cell_type": "code",
   "execution_count": null,
   "id": "98d08d8d-b6ed-475f-b940-351dcaedded4",
   "metadata": {},
   "outputs": [],
   "source": [
    "#Any change in a mutable object updates the existing object however any change in the immutable object creates a new object."
   ]
  },
  {
   "cell_type": "markdown",
   "id": "b3a96403-2514-483f-820b-f1c3681ec65d",
   "metadata": {},
   "source": [
    "Q4) The different types of operators are:"
   ]
  },
  {
   "cell_type": "markdown",
   "id": "5f6874ef-f5e3-4bec-891b-f91ec03bb780",
   "metadata": {},
   "source": [
    "Arithmetic Operator"
   ]
  },
  {
   "cell_type": "raw",
   "id": "6455e8a6-f25c-46f7-b1d9-5225fd0a59cc",
   "metadata": {},
   "source": [
    "#Addition \n",
    "5+3\n",
    "#Subtraction\n",
    "5-3\n",
    "#Multiplication\n",
    "5*3\n",
    "#Division\n",
    "5/3"
   ]
  },
  {
   "cell_type": "markdown",
   "id": "627940b0-3f62-4209-9c23-4aa4a2c08fc1",
   "metadata": {},
   "source": [
    "Comparison Operator "
   ]
  },
  {
   "cell_type": "raw",
   "id": "9a530a27-a878-4b82-af28-2984846a9887",
   "metadata": {},
   "source": [
    "Equal to\n",
    "5 == 3\n",
    "Not equal to\t\n",
    "5 != 3\n",
    "Greater than\t\n",
    "5 > 3\n",
    "Less than\n",
    "5 < 3\n",
    "Greater than or equal to\t\n",
    "5 >=3\n",
    "Less than or equal to\n",
    "5 <=3"
   ]
  },
  {
   "cell_type": "markdown",
   "id": "7ed9ed01-5c8b-4b44-b610-fabce9ad07fe",
   "metadata": {},
   "source": [
    "Logical Operator"
   ]
  },
  {
   "cell_type": "raw",
   "id": "43bdab3d-5dd6-4432-b8cb-6ec857bf63db",
   "metadata": {},
   "source": [
    "and \n",
    "or \n",
    "not "
   ]
  },
  {
   "cell_type": "markdown",
   "id": "e185b9b0-6f0a-42ff-bb9f-d2a104482161",
   "metadata": {},
   "source": [
    "Membership Operator "
   ]
  },
  {
   "cell_type": "raw",
   "id": "13563e4d-3b17-4534-ba25-02a2951abbbc",
   "metadata": {},
   "source": [
    "in\n",
    "not in "
   ]
  },
  {
   "cell_type": "markdown",
   "id": "a7763e96-f4f4-429c-929f-3cc9f81606b1",
   "metadata": {},
   "source": [
    "Identity Operator "
   ]
  },
  {
   "cell_type": "raw",
   "id": "a7054479-30ff-4535-a0fc-cf9b5e168a9a",
   "metadata": {},
   "source": [
    "is \n",
    "is not "
   ]
  },
  {
   "cell_type": "markdown",
   "id": "fda43874-395b-45e4-a57b-a3a8a3842daf",
   "metadata": {},
   "source": [
    "Q5) In implicit type casting, Python automatically converts one data type to another without any explicit instruction. This happens when there is no risk of data loss, such as converting an integer to a float."
   ]
  },
  {
   "cell_type": "code",
   "execution_count": null,
   "id": "b7aa8903-5989-433d-96dc-8bdf560c823c",
   "metadata": {},
   "outputs": [],
   "source": [
    "# Implicit type casting\n",
    "x = 10      # Integer\n",
    "y = 2.5     # Float\n",
    "result = x + y  # x is implicitly converted to a float\n",
    "print(result)   # Output: 12.5\n",
    "print(type(result))  # Output: <class 'float'>"
   ]
  },
  {
   "cell_type": "raw",
   "id": "ed3bd86e-8456-42a9-978c-968910b511ef",
   "metadata": {},
   "source": [
    "In explicit type casting, the programmer manually converts one data type into another using Python's built-in functions. This is necessary when Python does not perform implicit conversion or when data loss might occur during the conversion."
   ]
  },
  {
   "cell_type": "code",
   "execution_count": null,
   "id": "9cad5330-caf8-41a9-bce3-776bc50a6783",
   "metadata": {},
   "outputs": [],
   "source": [
    "# Converting float to integer\n",
    "num = 10.8\n",
    "print(\"Float:\", num)\n",
    "int_num = int(num)\n",
    "print(\"Integer:\", int_num)  # Output: 10 (decimal part is truncated)\n",
    "\n",
    "# Converting string to float\n",
    "num_str = \"123.45\"\n",
    "float_num = float(num_str)\n",
    "print(\"Converted Float:\", float_num)  # Output: 123.45"
   ]
  },
  {
   "cell_type": "code",
   "execution_count": null,
   "id": "a138df58-1fbd-4220-81d4-2e6462088031",
   "metadata": {},
   "outputs": [],
   "source": [
    "# Converting integer to string\n",
    "age = 25\n",
    "age_str = str(age)\n",
    "print(\"Age as string:\", age_str)  # Output: \"25\"\n",
    "print(type(age_str))  # Output: <class 'str'>"
   ]
  },
  {
   "cell_type": "code",
   "execution_count": null,
   "id": "e0b5cbff-4f56-4051-aa6f-0f061eec63a2",
   "metadata": {},
   "outputs": [],
   "source": [
    "# Converting list to tuple\n",
    "my_list = [1, 2, 3]\n",
    "my_tuple = tuple(my_list)\n",
    "print(\"Tuple:\", my_tuple)  # Output: (1, 2, 3)\n",
    "\n",
    "# Converting string to list\n",
    "string = \"hello\"\n",
    "string_list = list(string)\n",
    "print(\"List:\", string_list)  # Output: ['h', 'e', 'l', 'l', 'o']"
   ]
  },
  {
   "cell_type": "markdown",
   "id": "2a9d92a8-50ad-4831-8918-82a1acca66e1",
   "metadata": {},
   "source": [
    "Q6) Conditional statements allow a program to execute different blocks of code based on certain conditions. These conditions evaluate to either True or False, and the program executes the appropriate block accordingly."
   ]
  },
  {
   "cell_type": "raw",
   "id": "847b5363-47b2-4af4-ac33-c79b77bc80a3",
   "metadata": {},
   "source": [
    "The if statement executes a block of code only if the specified condition evaluates to True."
   ]
  },
  {
   "cell_type": "code",
   "execution_count": null,
   "id": "247df42f-386e-482c-9873-2a899d850fd6",
   "metadata": {},
   "outputs": [],
   "source": [
    "#Example\n",
    "age = 20\n",
    "if age >= 18:\n",
    "    print(\"You are eligible to vote.\")"
   ]
  },
  {
   "cell_type": "raw",
   "id": "4947c7a1-e8a9-4bd2-88ca-2f9987717b10",
   "metadata": {},
   "source": [
    "The if-else statement provides an alternative block of code to execute if the condition evaluates to False. "
   ]
  },
  {
   "cell_type": "code",
   "execution_count": null,
   "id": "02b30bb9-7c0b-4ce2-bb8f-52c8ef788ad1",
   "metadata": {},
   "outputs": [],
   "source": [
    "#Example\n",
    "age = 16\n",
    "if age >= 18:\n",
    "    print(\"You are eligible to vote.\")\n",
    "else:\n",
    "    print(\"You are not eligible to vote.\")"
   ]
  },
  {
   "cell_type": "raw",
   "id": "18d95e3e-b4fc-4f84-9528-4d6bba918afc",
   "metadata": {},
   "source": [
    "The if-elif-else structure allows testing multiple conditions in sequence. The first condition that evaluates to True executes its block of code, and the rest are ignored. "
   ]
  },
  {
   "cell_type": "code",
   "execution_count": null,
   "id": "ed4b7597-1e26-49ed-856c-0563fc064af2",
   "metadata": {},
   "outputs": [],
   "source": [
    "#Example\n",
    "marks = 75\n",
    "if marks >= 90:\n",
    "    print(\"Grade: A\")\n",
    "elif marks >= 75:\n",
    "    print(\"Grade: B\")\n",
    "elif marks >= 50:\n",
    "    print(\"Grade: C\")\n",
    "else:\n",
    "    print(\"Grade: F\")"
   ]
  },
  {
   "cell_type": "code",
   "execution_count": null,
   "id": "c1a36763-e2dc-4c79-be03-8e05e223e83e",
   "metadata": {},
   "outputs": [],
   "source": [
    "#An example for further understanding;\n",
    "age = 20\n",
    "citizen = True\n",
    "if age >= 18:\n",
    "    if citizen:\n",
    "        print(\"You are eligible to vote.\")\n",
    "    else:\n",
    "        print(\"You must be a citizen to vote.\")\n",
    "else:\n",
    "    print(\"You are not old enough to vote.\")"
   ]
  },
  {
   "cell_type": "markdown",
   "id": "457ce2a1-ccc8-4ed9-a130-85315203986a",
   "metadata": {},
   "source": [
    "Q7) In Python, loops are used to execute a block of code repeatedly, based on a condition or a sequence. Python supports two main types of loops: for loops and while loops. Each has distinct use cases based on the problem being solved."
   ]
  },
  {
   "cell_type": "raw",
   "id": "3df1da97-c0ad-47c5-a6a5-576a6a4eb853",
   "metadata": {},
   "source": [
    "FOR Loops\n",
    "\n",
    "\n",
    "The for loop is used to iterate over a sequence (like a list, tuple, dictionary, set, or string) or a range of numbers."
   ]
  },
  {
   "cell_type": "raw",
   "id": "07ecf7f6-ccb6-4ee2-b00f-3d1db687ad66",
   "metadata": {},
   "source": [
    "#PROBLEM STATEMENT\n",
    "\n",
    "print a right traingle with * using FOR loop"
   ]
  },
  {
   "cell_type": "code",
   "execution_count": null,
   "id": "0d05d5f4-96de-4302-89b3-0dc5d0a8eedd",
   "metadata": {},
   "outputs": [],
   "source": [
    "for i in range(4):\n",
    "    for j in range(i+1):\n",
    "        print(\"*\", end = \"\")\n",
    "    print()"
   ]
  },
  {
   "cell_type": "markdown",
   "id": "e05aa378-da72-438d-9400-23c42b3b7ecb",
   "metadata": {},
   "source": [
    "WHILE Loops\n",
    "\n",
    "The while loop executes as long as a given condition is True. It is used when the number of iterations is not known in advance and depends on a condition being met."
   ]
  },
  {
   "cell_type": "raw",
   "id": "7d7e2e58-b880-4e5c-9d31-5ffd29289209",
   "metadata": {},
   "source": [
    "#PROBLEM STATEMENT\n",
    "\n",
    "print a right traingle with * using WHILE Loop"
   ]
  },
  {
   "cell_type": "code",
   "execution_count": null,
   "id": "d376487f-9601-4688-8181-47e22fe92a8d",
   "metadata": {},
   "outputs": [],
   "source": [
    "row = 1\n",
    "while row <= 4:\n",
    "    col = 1\n",
    "    while col <= row:\n",
    "        print(\"*\", end = \"\")\n",
    "        col = col+1\n",
    "    print()\n",
    "    row = row+1"
   ]
  }
 ],
 "metadata": {
  "kernelspec": {
   "display_name": "Python 3 (ipykernel)",
   "language": "python",
   "name": "python3"
  },
  "language_info": {
   "codemirror_mode": {
    "name": "ipython",
    "version": 3
   },
   "file_extension": ".py",
   "mimetype": "text/x-python",
   "name": "python",
   "nbconvert_exporter": "python",
   "pygments_lexer": "ipython3",
   "version": "3.10.14"
  }
 },
 "nbformat": 4,
 "nbformat_minor": 5
}
